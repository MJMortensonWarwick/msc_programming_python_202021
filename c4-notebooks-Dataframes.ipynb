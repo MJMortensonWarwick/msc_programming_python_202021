{
 "cells": [
  {
   "cell_type": "code",
   "execution_count": 1,
   "metadata": {
    "collapsed": true
   },
   "outputs": [],
   "source": [
    "import pandas as pd\n",
    "import numpy as np"
   ]
  },
  {
   "cell_type": "code",
   "execution_count": 2,
   "metadata": {
    "collapsed": false
   },
   "outputs": [
    {
     "data": {
      "text/html": [
       "<div>\n",
       "<table border=\"1\" class=\"dataframe\">\n",
       "  <thead>\n",
       "    <tr style=\"text-align: right;\">\n",
       "      <th></th>\n",
       "      <th>o10001</th>\n",
       "      <th>o10002</th>\n",
       "      <th>o10003</th>\n",
       "      <th>o10004</th>\n",
       "    </tr>\n",
       "  </thead>\n",
       "  <tbody>\n",
       "    <tr>\n",
       "      <th>date</th>\n",
       "      <td>2019/01/10</td>\n",
       "      <td>2019/01/13</td>\n",
       "      <td>2019/01/14</td>\n",
       "      <td>2019/01/15</td>\n",
       "    </tr>\n",
       "    <tr>\n",
       "      <th>product</th>\n",
       "      <td>Social Media Detector</td>\n",
       "      <td>Realistic Man's wig</td>\n",
       "      <td>Weather's Originals</td>\n",
       "      <td>Brown Shoes</td>\n",
       "    </tr>\n",
       "    <tr>\n",
       "      <th>quantity</th>\n",
       "      <td>1</td>\n",
       "      <td>2</td>\n",
       "      <td>10</td>\n",
       "      <td>2</td>\n",
       "    </tr>\n",
       "  </tbody>\n",
       "</table>\n",
       "</div>"
      ],
      "text/plain": [
       "                         o10001               o10002               o10003  \\\n",
       "date                 2019/01/10           2019/01/13           2019/01/14   \n",
       "product   Social Media Detector  Realistic Man's wig  Weather's Originals   \n",
       "quantity                      1                    2                   10   \n",
       "\n",
       "               o10004  \n",
       "date       2019/01/15  \n",
       "product   Brown Shoes  \n",
       "quantity            2  "
      ]
     },
     "execution_count": 2,
     "metadata": {},
     "output_type": "execute_result"
    }
   ],
   "source": [
    "orders = {'o10001':{'date':'2019/01/10', \\\n",
    "\t\t\t\t'product':'Social Media Detector', \\\n",
    "\t\t\t\t'quantity':'1'\n",
    "\t\t}, \\\n",
    "\t\t'o10002':{'date':'2019/01/13', \\\n",
    "\t\t\t\t'product':'Realistic Man\\'s wig', \\\n",
    "\t\t\t\t'quantity':'2' \\\n",
    "\t\t}, \\\n",
    "\t\t'o10003':{'date':'2019/01/14', \\\n",
    "\t\t\t\t'product':'Weather\\'s Originals', \\\n",
    "\t\t\t\t'quantity':'10' \\\n",
    "\t\t}, \\\n",
    "\t\t'o10004':{'date':'2019/01/15', \\\n",
    "\t\t\t\t'product':'Brown Shoes', \\\n",
    "\t\t\t\t'quantity':'2' \\\n",
    "\t\t}\n",
    "}\n",
    "\n",
    "orders_df = pd.DataFrame(orders)\n",
    "orders_df"
   ]
  },
  {
   "cell_type": "code",
   "execution_count": 3,
   "metadata": {
    "collapsed": false
   },
   "outputs": [
    {
     "data": {
      "text/html": [
       "<div>\n",
       "<table border=\"1\" class=\"dataframe\">\n",
       "  <thead>\n",
       "    <tr style=\"text-align: right;\">\n",
       "      <th></th>\n",
       "      <th>Emily</th>\n",
       "      <th>Gareth</th>\n",
       "      <th>James</th>\n",
       "      <th>Mark</th>\n",
       "    </tr>\n",
       "  </thead>\n",
       "  <tbody>\n",
       "    <tr>\n",
       "      <th>name</th>\n",
       "      <td>Emily Davis</td>\n",
       "      <td>Gareth Edwards</td>\n",
       "      <td>James Pennington</td>\n",
       "      <td>Mark Bonnett</td>\n",
       "    </tr>\n",
       "    <tr>\n",
       "      <th>open_orders</th>\n",
       "      <td>0</td>\n",
       "      <td>0</td>\n",
       "      <td>1</td>\n",
       "      <td>1</td>\n",
       "    </tr>\n",
       "    <tr>\n",
       "      <th>orders</th>\n",
       "      <td>[]</td>\n",
       "      <td>[]</td>\n",
       "      <td>[o10001, o10002, o10004]</td>\n",
       "      <td>[o10003]</td>\n",
       "    </tr>\n",
       "  </tbody>\n",
       "</table>\n",
       "</div>"
      ],
      "text/plain": [
       "                   Emily          Gareth                     James  \\\n",
       "name         Emily Davis  Gareth Edwards          James Pennington   \n",
       "open_orders            0               0                         1   \n",
       "orders                []              []  [o10001, o10002, o10004]   \n",
       "\n",
       "                     Mark  \n",
       "name         Mark Bonnett  \n",
       "open_orders             1  \n",
       "orders           [o10003]  "
      ]
     },
     "execution_count": 3,
     "metadata": {},
     "output_type": "execute_result"
    }
   ],
   "source": [
    "customers = {'James':{'name':'James Pennington', \\\n",
    "\t\t\t\t'open_orders':1, \\\n",
    "\t\t\t\t'orders':['o10001', 'o10002', 'o10004']\n",
    "\t\t\t}, \\\n",
    "\t\t\t'Gareth':{'name':'Gareth Edwards', \\\n",
    "\t\t\t\t'open_orders':0, \\\n",
    "\t\t\t\t'orders':[]\n",
    "\t\t\t}, \\\n",
    "\t\t\t'Mark':{'name':'Mark Bonnett', \\\n",
    "\t\t\t\t'open_orders':1, \\\n",
    "\t\t\t\t'orders':['o10003']\n",
    "\t\t\t}, \\\n",
    "\t\t\t'Emily':{'name':'Emily Davis', \\\n",
    "\t\t\t\t'open_orders':0, \\\n",
    "\t\t\t\t'orders':[]\n",
    "\t\t\t}\n",
    "}\n",
    "\n",
    "customers_df = pd.DataFrame(customers)\n",
    "customers_df"
   ]
  },
  {
   "cell_type": "code",
   "execution_count": 4,
   "metadata": {
    "collapsed": false
   },
   "outputs": [
    {
     "data": {
      "text/html": [
       "<div>\n",
       "<table border=\"1\" class=\"dataframe\">\n",
       "  <thead>\n",
       "    <tr style=\"text-align: right;\">\n",
       "      <th></th>\n",
       "      <th>123</th>\n",
       "      <th>124</th>\n",
       "      <th>125</th>\n",
       "      <th>126</th>\n",
       "      <th>127</th>\n",
       "    </tr>\n",
       "  </thead>\n",
       "  <tbody>\n",
       "    <tr>\n",
       "      <th>cost_price</th>\n",
       "      <td>12.12</td>\n",
       "      <td>2.15</td>\n",
       "      <td>22.45</td>\n",
       "      <td>0.45</td>\n",
       "      <td>0.78</td>\n",
       "    </tr>\n",
       "    <tr>\n",
       "      <th>name</th>\n",
       "      <td>Social Media Detector</td>\n",
       "      <td>Realistic Man's wig</td>\n",
       "      <td>Brown Shoes</td>\n",
       "      <td>Pack of Cards</td>\n",
       "      <td>Weather's Originals</td>\n",
       "    </tr>\n",
       "    <tr>\n",
       "      <th>sale_price</th>\n",
       "      <td>15</td>\n",
       "      <td>9.99</td>\n",
       "      <td>49.99</td>\n",
       "      <td>2.99</td>\n",
       "      <td>1.49</td>\n",
       "    </tr>\n",
       "  </tbody>\n",
       "</table>\n",
       "</div>"
      ],
      "text/plain": [
       "                              123                  124          125  \\\n",
       "cost_price                  12.12                 2.15        22.45   \n",
       "name        Social Media Detector  Realistic Man's wig  Brown Shoes   \n",
       "sale_price                     15                 9.99        49.99   \n",
       "\n",
       "                      126                  127  \n",
       "cost_price           0.45                 0.78  \n",
       "name        Pack of Cards  Weather's Originals  \n",
       "sale_price           2.99                 1.49  "
      ]
     },
     "execution_count": 4,
     "metadata": {},
     "output_type": "execute_result"
    }
   ],
   "source": [
    "products = {'123':{'name':'Social Media Detector', \\\n",
    "\t\t\t\t'cost_price':12.12, \\\n",
    "\t\t\t\t'sale_price':15.00\n",
    "\t\t\t}, \\\n",
    "\t\t\t'124':{'name':'Realistic Man\\'s wig', \\\n",
    "\t\t\t\t'cost_price':2.15, \\\n",
    "\t\t\t\t'sale_price':9.99\n",
    "\t\t\t}, \\\n",
    "\t\t\t'125':{'name':'Brown Shoes', \\\n",
    "\t\t\t\t'cost_price':22.45, \\\n",
    "\t\t\t\t'sale_price':49.99\n",
    "\t\t\t}, \\\n",
    "\t\t\t'126':{'name':'Pack of Cards', \\\n",
    "\t\t\t\t'cost_price':0.45, \\\n",
    "\t\t\t\t'sale_price':2.99\n",
    "\t\t\t}, \\\n",
    "\t\t\t'127':{'name':'Weather\\'s Originals', \\\n",
    "\t\t\t\t'cost_price':0.78, \\\n",
    "\t\t\t\t'sale_price':1.49\n",
    "\t\t\t}\n",
    "}\n",
    "\n",
    "products_df = pd.DataFrame(products)\n",
    "products_df"
   ]
  },
  {
   "cell_type": "code",
   "execution_count": 5,
   "metadata": {
    "collapsed": false
   },
   "outputs": [
    {
     "data": {
      "text/html": [
       "<div>\n",
       "<table border=\"1\" class=\"dataframe\">\n",
       "  <thead>\n",
       "    <tr style=\"text-align: right;\">\n",
       "      <th></th>\n",
       "      <th>date</th>\n",
       "      <th>product</th>\n",
       "      <th>quantity</th>\n",
       "    </tr>\n",
       "  </thead>\n",
       "  <tbody>\n",
       "    <tr>\n",
       "      <th>o10001</th>\n",
       "      <td>2019/01/10</td>\n",
       "      <td>Social Media Detector</td>\n",
       "      <td>1</td>\n",
       "    </tr>\n",
       "    <tr>\n",
       "      <th>o10002</th>\n",
       "      <td>2019/01/13</td>\n",
       "      <td>Realistic Man's wig</td>\n",
       "      <td>2</td>\n",
       "    </tr>\n",
       "    <tr>\n",
       "      <th>o10003</th>\n",
       "      <td>2019/01/14</td>\n",
       "      <td>Weather's Originals</td>\n",
       "      <td>10</td>\n",
       "    </tr>\n",
       "    <tr>\n",
       "      <th>o10004</th>\n",
       "      <td>2019/01/15</td>\n",
       "      <td>Brown Shoes</td>\n",
       "      <td>2</td>\n",
       "    </tr>\n",
       "  </tbody>\n",
       "</table>\n",
       "</div>"
      ],
      "text/plain": [
       "              date                product quantity\n",
       "o10001  2019/01/10  Social Media Detector        1\n",
       "o10002  2019/01/13    Realistic Man's wig        2\n",
       "o10003  2019/01/14    Weather's Originals       10\n",
       "o10004  2019/01/15            Brown Shoes        2"
      ]
     },
     "execution_count": 5,
     "metadata": {},
     "output_type": "execute_result"
    }
   ],
   "source": [
    "orders_df = orders_df.transpose()\n",
    "products_df = products_df.transpose()\n",
    "orders_df"
   ]
  },
  {
   "cell_type": "code",
   "execution_count": 6,
   "metadata": {
    "collapsed": false
   },
   "outputs": [
    {
     "data": {
      "text/html": [
       "<div>\n",
       "<table border=\"1\" class=\"dataframe\">\n",
       "  <thead>\n",
       "    <tr style=\"text-align: right;\">\n",
       "      <th></th>\n",
       "      <th>date</th>\n",
       "      <th>product</th>\n",
       "      <th>quantity</th>\n",
       "      <th>cost_price</th>\n",
       "      <th>name</th>\n",
       "      <th>sale_price</th>\n",
       "    </tr>\n",
       "  </thead>\n",
       "  <tbody>\n",
       "    <tr>\n",
       "      <th>0</th>\n",
       "      <td>2019/01/10</td>\n",
       "      <td>Social Media Detector</td>\n",
       "      <td>1</td>\n",
       "      <td>12.12</td>\n",
       "      <td>Social Media Detector</td>\n",
       "      <td>15</td>\n",
       "    </tr>\n",
       "    <tr>\n",
       "      <th>1</th>\n",
       "      <td>2019/01/13</td>\n",
       "      <td>Realistic Man's wig</td>\n",
       "      <td>2</td>\n",
       "      <td>2.15</td>\n",
       "      <td>Realistic Man's wig</td>\n",
       "      <td>9.99</td>\n",
       "    </tr>\n",
       "    <tr>\n",
       "      <th>2</th>\n",
       "      <td>2019/01/14</td>\n",
       "      <td>Weather's Originals</td>\n",
       "      <td>10</td>\n",
       "      <td>0.78</td>\n",
       "      <td>Weather's Originals</td>\n",
       "      <td>1.49</td>\n",
       "    </tr>\n",
       "    <tr>\n",
       "      <th>3</th>\n",
       "      <td>2019/01/15</td>\n",
       "      <td>Brown Shoes</td>\n",
       "      <td>2</td>\n",
       "      <td>22.45</td>\n",
       "      <td>Brown Shoes</td>\n",
       "      <td>49.99</td>\n",
       "    </tr>\n",
       "  </tbody>\n",
       "</table>\n",
       "</div>"
      ],
      "text/plain": [
       "         date                product quantity cost_price  \\\n",
       "0  2019/01/10  Social Media Detector        1      12.12   \n",
       "1  2019/01/13    Realistic Man's wig        2       2.15   \n",
       "2  2019/01/14    Weather's Originals       10       0.78   \n",
       "3  2019/01/15            Brown Shoes        2      22.45   \n",
       "\n",
       "                    name sale_price  \n",
       "0  Social Media Detector         15  \n",
       "1    Realistic Man's wig       9.99  \n",
       "2    Weather's Originals       1.49  \n",
       "3            Brown Shoes      49.99  "
      ]
     },
     "execution_count": 6,
     "metadata": {},
     "output_type": "execute_result"
    }
   ],
   "source": [
    "joined_df =orders_df.merge(products_df, how='left', left_on='product', right_on='name')\n",
    "joined_df"
   ]
  },
  {
   "cell_type": "code",
   "execution_count": 8,
   "metadata": {
    "collapsed": false
   },
   "outputs": [
    {
     "data": {
      "text/html": [
       "<div>\n",
       "<table border=\"1\" class=\"dataframe\">\n",
       "  <thead>\n",
       "    <tr style=\"text-align: right;\">\n",
       "      <th></th>\n",
       "      <th>date</th>\n",
       "      <th>product</th>\n",
       "      <th>quantity</th>\n",
       "      <th>cost_price</th>\n",
       "      <th>name</th>\n",
       "      <th>sale_price</th>\n",
       "    </tr>\n",
       "  </thead>\n",
       "  <tbody>\n",
       "    <tr>\n",
       "      <th>0</th>\n",
       "      <td>2019/01/10</td>\n",
       "      <td>Social Media Detector</td>\n",
       "      <td>1</td>\n",
       "      <td>12.12</td>\n",
       "      <td>Social Media Detector</td>\n",
       "      <td>15</td>\n",
       "    </tr>\n",
       "    <tr>\n",
       "      <th>1</th>\n",
       "      <td>2019/01/13</td>\n",
       "      <td>Realistic Man's wig</td>\n",
       "      <td>2</td>\n",
       "      <td>2.15</td>\n",
       "      <td>Realistic Man's wig</td>\n",
       "      <td>9.99</td>\n",
       "    </tr>\n",
       "    <tr>\n",
       "      <th>2</th>\n",
       "      <td>2019/01/14</td>\n",
       "      <td>Weather's Originals</td>\n",
       "      <td>10</td>\n",
       "      <td>0.78</td>\n",
       "      <td>Weather's Originals</td>\n",
       "      <td>1.49</td>\n",
       "    </tr>\n",
       "    <tr>\n",
       "      <th>3</th>\n",
       "      <td>2019/01/15</td>\n",
       "      <td>Brown Shoes</td>\n",
       "      <td>2</td>\n",
       "      <td>22.45</td>\n",
       "      <td>Brown Shoes</td>\n",
       "      <td>49.99</td>\n",
       "    </tr>\n",
       "    <tr>\n",
       "      <th>4</th>\n",
       "      <td>NaN</td>\n",
       "      <td>NaN</td>\n",
       "      <td>NaN</td>\n",
       "      <td>0.45</td>\n",
       "      <td>Pack of Cards</td>\n",
       "      <td>2.99</td>\n",
       "    </tr>\n",
       "  </tbody>\n",
       "</table>\n",
       "</div>"
      ],
      "text/plain": [
       "         date                product quantity cost_price  \\\n",
       "0  2019/01/10  Social Media Detector        1      12.12   \n",
       "1  2019/01/13    Realistic Man's wig        2       2.15   \n",
       "2  2019/01/14    Weather's Originals       10       0.78   \n",
       "3  2019/01/15            Brown Shoes        2      22.45   \n",
       "4         NaN                    NaN      NaN       0.45   \n",
       "\n",
       "                    name sale_price  \n",
       "0  Social Media Detector         15  \n",
       "1    Realistic Man's wig       9.99  \n",
       "2    Weather's Originals       1.49  \n",
       "3            Brown Shoes      49.99  \n",
       "4          Pack of Cards       2.99  "
      ]
     },
     "execution_count": 8,
     "metadata": {},
     "output_type": "execute_result"
    }
   ],
   "source": [
    "joined_df_two =orders_df.merge(products_df, how='right', left_on='product', right_on='name')\n",
    "joined_df_two"
   ]
  },
  {
   "cell_type": "code",
   "execution_count": 9,
   "metadata": {
    "collapsed": false
   },
   "outputs": [
    {
     "data": {
      "text/html": [
       "<div>\n",
       "<table border=\"1\" class=\"dataframe\">\n",
       "  <thead>\n",
       "    <tr style=\"text-align: right;\">\n",
       "      <th></th>\n",
       "      <th>date</th>\n",
       "      <th>product</th>\n",
       "      <th>quantity</th>\n",
       "      <th>cost_price</th>\n",
       "      <th>sale_price</th>\n",
       "    </tr>\n",
       "  </thead>\n",
       "  <tbody>\n",
       "    <tr>\n",
       "      <th>0</th>\n",
       "      <td>2019/01/10</td>\n",
       "      <td>Social Media Detector</td>\n",
       "      <td>1</td>\n",
       "      <td>12.12</td>\n",
       "      <td>15</td>\n",
       "    </tr>\n",
       "    <tr>\n",
       "      <th>1</th>\n",
       "      <td>2019/01/13</td>\n",
       "      <td>Realistic Man's wig</td>\n",
       "      <td>2</td>\n",
       "      <td>2.15</td>\n",
       "      <td>9.99</td>\n",
       "    </tr>\n",
       "    <tr>\n",
       "      <th>2</th>\n",
       "      <td>2019/01/14</td>\n",
       "      <td>Weather's Originals</td>\n",
       "      <td>10</td>\n",
       "      <td>0.78</td>\n",
       "      <td>1.49</td>\n",
       "    </tr>\n",
       "    <tr>\n",
       "      <th>3</th>\n",
       "      <td>2019/01/15</td>\n",
       "      <td>Brown Shoes</td>\n",
       "      <td>2</td>\n",
       "      <td>22.45</td>\n",
       "      <td>49.99</td>\n",
       "    </tr>\n",
       "  </tbody>\n",
       "</table>\n",
       "</div>"
      ],
      "text/plain": [
       "         date                product quantity cost_price sale_price\n",
       "0  2019/01/10  Social Media Detector        1      12.12         15\n",
       "1  2019/01/13    Realistic Man's wig        2       2.15       9.99\n",
       "2  2019/01/14    Weather's Originals       10       0.78       1.49\n",
       "3  2019/01/15            Brown Shoes        2      22.45      49.99"
      ]
     },
     "execution_count": 9,
     "metadata": {},
     "output_type": "execute_result"
    }
   ],
   "source": [
    "joined_df = joined_df.drop(['name'], axis=1)\n",
    "joined_df"
   ]
  },
  {
   "cell_type": "code",
   "execution_count": 10,
   "metadata": {
    "collapsed": false
   },
   "outputs": [
    {
     "ename": "TypeError",
     "evalue": "can't multiply sequence by non-int of type 'float'",
     "output_type": "error",
     "traceback": [
      "\u001b[1;31m---------------------------------------------------------------------------\u001b[0m",
      "\u001b[1;31mTypeError\u001b[0m                                 Traceback (most recent call last)",
      "\u001b[1;32mC:\\Anaconda3\\lib\\site-packages\\pandas\\core\\ops.py\u001b[0m in \u001b[0;36mna_op\u001b[1;34m(x, y)\u001b[0m\n\u001b[0;32m    581\u001b[0m             result = expressions.evaluate(op, str_rep, x, y,\n\u001b[1;32m--> 582\u001b[1;33m                                           raise_on_error=True, **eval_kwargs)\n\u001b[0m\u001b[0;32m    583\u001b[0m         \u001b[1;32mexcept\u001b[0m \u001b[0mTypeError\u001b[0m\u001b[1;33m:\u001b[0m\u001b[1;33m\u001b[0m\u001b[0m\n",
      "\u001b[1;32mC:\\Anaconda3\\lib\\site-packages\\pandas\\computation\\expressions.py\u001b[0m in \u001b[0;36mevaluate\u001b[1;34m(op, op_str, a, b, raise_on_error, use_numexpr, **eval_kwargs)\u001b[0m\n\u001b[0;32m    208\u001b[0m         return _evaluate(op, op_str, a, b, raise_on_error=raise_on_error,\n\u001b[1;32m--> 209\u001b[1;33m                          **eval_kwargs)\n\u001b[0m\u001b[0;32m    210\u001b[0m     \u001b[1;32mreturn\u001b[0m \u001b[0m_evaluate_standard\u001b[0m\u001b[1;33m(\u001b[0m\u001b[0mop\u001b[0m\u001b[1;33m,\u001b[0m \u001b[0mop_str\u001b[0m\u001b[1;33m,\u001b[0m \u001b[0ma\u001b[0m\u001b[1;33m,\u001b[0m \u001b[0mb\u001b[0m\u001b[1;33m,\u001b[0m \u001b[0mraise_on_error\u001b[0m\u001b[1;33m=\u001b[0m\u001b[0mraise_on_error\u001b[0m\u001b[1;33m)\u001b[0m\u001b[1;33m\u001b[0m\u001b[0m\n",
      "\u001b[1;32mC:\\Anaconda3\\lib\\site-packages\\pandas\\computation\\expressions.py\u001b[0m in \u001b[0;36m_evaluate_numexpr\u001b[1;34m(op, op_str, a, b, raise_on_error, truediv, reversed, **eval_kwargs)\u001b[0m\n\u001b[0;32m    119\u001b[0m     \u001b[1;32mif\u001b[0m \u001b[0mresult\u001b[0m \u001b[1;32mis\u001b[0m \u001b[1;32mNone\u001b[0m\u001b[1;33m:\u001b[0m\u001b[1;33m\u001b[0m\u001b[0m\n\u001b[1;32m--> 120\u001b[1;33m         \u001b[0mresult\u001b[0m \u001b[1;33m=\u001b[0m \u001b[0m_evaluate_standard\u001b[0m\u001b[1;33m(\u001b[0m\u001b[0mop\u001b[0m\u001b[1;33m,\u001b[0m \u001b[0mop_str\u001b[0m\u001b[1;33m,\u001b[0m \u001b[0ma\u001b[0m\u001b[1;33m,\u001b[0m \u001b[0mb\u001b[0m\u001b[1;33m,\u001b[0m \u001b[0mraise_on_error\u001b[0m\u001b[1;33m)\u001b[0m\u001b[1;33m\u001b[0m\u001b[0m\n\u001b[0m\u001b[0;32m    121\u001b[0m \u001b[1;33m\u001b[0m\u001b[0m\n",
      "\u001b[1;32mC:\\Anaconda3\\lib\\site-packages\\pandas\\computation\\expressions.py\u001b[0m in \u001b[0;36m_evaluate_standard\u001b[1;34m(op, op_str, a, b, raise_on_error, **eval_kwargs)\u001b[0m\n\u001b[0;32m     61\u001b[0m         \u001b[0m_store_test_result\u001b[0m\u001b[1;33m(\u001b[0m\u001b[1;32mFalse\u001b[0m\u001b[1;33m)\u001b[0m\u001b[1;33m\u001b[0m\u001b[0m\n\u001b[1;32m---> 62\u001b[1;33m     \u001b[1;32mreturn\u001b[0m \u001b[0mop\u001b[0m\u001b[1;33m(\u001b[0m\u001b[0ma\u001b[0m\u001b[1;33m,\u001b[0m \u001b[0mb\u001b[0m\u001b[1;33m)\u001b[0m\u001b[1;33m\u001b[0m\u001b[0m\n\u001b[0m\u001b[0;32m     63\u001b[0m \u001b[1;33m\u001b[0m\u001b[0m\n",
      "\u001b[1;31mTypeError\u001b[0m: can't multiply sequence by non-int of type 'float'",
      "\nDuring handling of the above exception, another exception occurred:\n",
      "\u001b[1;31mTypeError\u001b[0m                                 Traceback (most recent call last)",
      "\u001b[1;32m<ipython-input-10-f2009c804214>\u001b[0m in \u001b[0;36m<module>\u001b[1;34m()\u001b[0m\n\u001b[1;32m----> 1\u001b[1;33m \u001b[0mjoined_df\u001b[0m\u001b[1;33m[\u001b[0m\u001b[1;34m'total_cost_price'\u001b[0m\u001b[1;33m]\u001b[0m \u001b[1;33m=\u001b[0m \u001b[0mjoined_df\u001b[0m\u001b[1;33m[\u001b[0m\u001b[1;34m'quantity'\u001b[0m\u001b[1;33m]\u001b[0m \u001b[1;33m*\u001b[0m \u001b[0mjoined_df\u001b[0m\u001b[1;33m[\u001b[0m\u001b[1;34m'cost_price'\u001b[0m\u001b[1;33m]\u001b[0m\u001b[1;33m\u001b[0m\u001b[0m\n\u001b[0m\u001b[0;32m      2\u001b[0m \u001b[0mjoined_df\u001b[0m\u001b[1;33m[\u001b[0m\u001b[1;34m'total_sale_price'\u001b[0m\u001b[1;33m]\u001b[0m \u001b[1;33m=\u001b[0m \u001b[0mjoined_df\u001b[0m\u001b[1;33m[\u001b[0m\u001b[1;34m'quantity'\u001b[0m\u001b[1;33m]\u001b[0m \u001b[1;33m*\u001b[0m \u001b[0mjoined_df\u001b[0m\u001b[1;33m[\u001b[0m\u001b[1;34m'sale_price'\u001b[0m\u001b[1;33m]\u001b[0m\u001b[1;33m\u001b[0m\u001b[0m\n\u001b[0;32m      3\u001b[0m \u001b[0mjoined_df\u001b[0m\u001b[1;33m\u001b[0m\u001b[0m\n",
      "\u001b[1;32mC:\\Anaconda3\\lib\\site-packages\\pandas\\core\\ops.py\u001b[0m in \u001b[0;36mwrapper\u001b[1;34m(left, right, name, na_op)\u001b[0m\n\u001b[0;32m    639\u001b[0m                     \u001b[0mrvalues\u001b[0m \u001b[1;33m=\u001b[0m \u001b[0malgos\u001b[0m\u001b[1;33m.\u001b[0m\u001b[0mtake_1d\u001b[0m\u001b[1;33m(\u001b[0m\u001b[0mrvalues\u001b[0m\u001b[1;33m,\u001b[0m \u001b[0mridx\u001b[0m\u001b[1;33m)\u001b[0m\u001b[1;33m\u001b[0m\u001b[0m\n\u001b[0;32m    640\u001b[0m \u001b[1;33m\u001b[0m\u001b[0m\n\u001b[1;32m--> 641\u001b[1;33m             \u001b[0marr\u001b[0m \u001b[1;33m=\u001b[0m \u001b[0mna_op\u001b[0m\u001b[1;33m(\u001b[0m\u001b[0mlvalues\u001b[0m\u001b[1;33m,\u001b[0m \u001b[0mrvalues\u001b[0m\u001b[1;33m)\u001b[0m\u001b[1;33m\u001b[0m\u001b[0m\n\u001b[0m\u001b[0;32m    642\u001b[0m \u001b[1;33m\u001b[0m\u001b[0m\n\u001b[0;32m    643\u001b[0m             return left._constructor(wrap_results(arr), index=index,\n",
      "\u001b[1;32mC:\\Anaconda3\\lib\\site-packages\\pandas\\core\\ops.py\u001b[0m in \u001b[0;36mna_op\u001b[1;34m(x, y)\u001b[0m\n\u001b[0;32m    586\u001b[0m                 \u001b[0mresult\u001b[0m \u001b[1;33m=\u001b[0m \u001b[0mnp\u001b[0m\u001b[1;33m.\u001b[0m\u001b[0mempty\u001b[0m\u001b[1;33m(\u001b[0m\u001b[0mx\u001b[0m\u001b[1;33m.\u001b[0m\u001b[0msize\u001b[0m\u001b[1;33m,\u001b[0m \u001b[0mdtype\u001b[0m\u001b[1;33m=\u001b[0m\u001b[0mdtype\u001b[0m\u001b[1;33m)\u001b[0m\u001b[1;33m\u001b[0m\u001b[0m\n\u001b[0;32m    587\u001b[0m                 \u001b[0mmask\u001b[0m \u001b[1;33m=\u001b[0m \u001b[0mnotnull\u001b[0m\u001b[1;33m(\u001b[0m\u001b[0mx\u001b[0m\u001b[1;33m)\u001b[0m \u001b[1;33m&\u001b[0m \u001b[0mnotnull\u001b[0m\u001b[1;33m(\u001b[0m\u001b[0my\u001b[0m\u001b[1;33m)\u001b[0m\u001b[1;33m\u001b[0m\u001b[0m\n\u001b[1;32m--> 588\u001b[1;33m                 \u001b[0mresult\u001b[0m\u001b[1;33m[\u001b[0m\u001b[0mmask\u001b[0m\u001b[1;33m]\u001b[0m \u001b[1;33m=\u001b[0m \u001b[0mop\u001b[0m\u001b[1;33m(\u001b[0m\u001b[0mx\u001b[0m\u001b[1;33m[\u001b[0m\u001b[0mmask\u001b[0m\u001b[1;33m]\u001b[0m\u001b[1;33m,\u001b[0m \u001b[0m_values_from_object\u001b[0m\u001b[1;33m(\u001b[0m\u001b[0my\u001b[0m\u001b[1;33m[\u001b[0m\u001b[0mmask\u001b[0m\u001b[1;33m]\u001b[0m\u001b[1;33m)\u001b[0m\u001b[1;33m)\u001b[0m\u001b[1;33m\u001b[0m\u001b[0m\n\u001b[0m\u001b[0;32m    589\u001b[0m             \u001b[1;32melif\u001b[0m \u001b[0misinstance\u001b[0m\u001b[1;33m(\u001b[0m\u001b[0mx\u001b[0m\u001b[1;33m,\u001b[0m \u001b[0mnp\u001b[0m\u001b[1;33m.\u001b[0m\u001b[0mndarray\u001b[0m\u001b[1;33m)\u001b[0m\u001b[1;33m:\u001b[0m\u001b[1;33m\u001b[0m\u001b[0m\n\u001b[0;32m    590\u001b[0m                 \u001b[0mresult\u001b[0m \u001b[1;33m=\u001b[0m \u001b[0mnp\u001b[0m\u001b[1;33m.\u001b[0m\u001b[0mempty\u001b[0m\u001b[1;33m(\u001b[0m\u001b[0mlen\u001b[0m\u001b[1;33m(\u001b[0m\u001b[0mx\u001b[0m\u001b[1;33m)\u001b[0m\u001b[1;33m,\u001b[0m \u001b[0mdtype\u001b[0m\u001b[1;33m=\u001b[0m\u001b[0mx\u001b[0m\u001b[1;33m.\u001b[0m\u001b[0mdtype\u001b[0m\u001b[1;33m)\u001b[0m\u001b[1;33m\u001b[0m\u001b[0m\n",
      "\u001b[1;31mTypeError\u001b[0m: can't multiply sequence by non-int of type 'float'"
     ]
    }
   ],
   "source": [
    "joined_df['total_cost_price'] = joined_df['quantity'] * joined_df['cost_price']\n",
    "joined_df['total_sale_price'] = joined_df['quantity'] * joined_df['sale_price']\n",
    "joined_df"
   ]
  },
  {
   "cell_type": "code",
   "execution_count": 11,
   "metadata": {
    "collapsed": false
   },
   "outputs": [
    {
     "name": "stdout",
     "output_type": "stream",
     "text": [
      "date          object\n",
      "product       object\n",
      "quantity      object\n",
      "cost_price    object\n",
      "sale_price    object\n",
      "dtype: object\n"
     ]
    }
   ],
   "source": [
    "print(joined_df.dtypes)"
   ]
  },
  {
   "cell_type": "code",
   "execution_count": 12,
   "metadata": {
    "collapsed": true
   },
   "outputs": [],
   "source": [
    "field_list = ['quantity', 'cost_price', 'sale_price']\n",
    "for field in field_list:\n",
    "\tjoined_df[field] = joined_df[field].astype(float)"
   ]
  },
  {
   "cell_type": "code",
   "execution_count": 13,
   "metadata": {
    "collapsed": false
   },
   "outputs": [
    {
     "data": {
      "text/html": [
       "<div>\n",
       "<table border=\"1\" class=\"dataframe\">\n",
       "  <thead>\n",
       "    <tr style=\"text-align: right;\">\n",
       "      <th></th>\n",
       "      <th>date</th>\n",
       "      <th>product</th>\n",
       "      <th>quantity</th>\n",
       "      <th>cost_price</th>\n",
       "      <th>sale_price</th>\n",
       "    </tr>\n",
       "  </thead>\n",
       "  <tbody>\n",
       "    <tr>\n",
       "      <th>0</th>\n",
       "      <td>2019/01/10</td>\n",
       "      <td>Social Media Detector</td>\n",
       "      <td>1.0</td>\n",
       "      <td>12.12</td>\n",
       "      <td>15.00</td>\n",
       "    </tr>\n",
       "    <tr>\n",
       "      <th>1</th>\n",
       "      <td>2019/01/13</td>\n",
       "      <td>Realistic Man's wig</td>\n",
       "      <td>2.0</td>\n",
       "      <td>2.15</td>\n",
       "      <td>9.99</td>\n",
       "    </tr>\n",
       "    <tr>\n",
       "      <th>2</th>\n",
       "      <td>2019/01/14</td>\n",
       "      <td>Weather's Originals</td>\n",
       "      <td>10.0</td>\n",
       "      <td>0.78</td>\n",
       "      <td>1.49</td>\n",
       "    </tr>\n",
       "    <tr>\n",
       "      <th>3</th>\n",
       "      <td>2019/01/15</td>\n",
       "      <td>Brown Shoes</td>\n",
       "      <td>2.0</td>\n",
       "      <td>22.45</td>\n",
       "      <td>49.99</td>\n",
       "    </tr>\n",
       "  </tbody>\n",
       "</table>\n",
       "</div>"
      ],
      "text/plain": [
       "         date                product  quantity  cost_price  sale_price\n",
       "0  2019/01/10  Social Media Detector       1.0       12.12       15.00\n",
       "1  2019/01/13    Realistic Man's wig       2.0        2.15        9.99\n",
       "2  2019/01/14    Weather's Originals      10.0        0.78        1.49\n",
       "3  2019/01/15            Brown Shoes       2.0       22.45       49.99"
      ]
     },
     "execution_count": 13,
     "metadata": {},
     "output_type": "execute_result"
    }
   ],
   "source": [
    "joined_df"
   ]
  },
  {
   "cell_type": "code",
   "execution_count": 14,
   "metadata": {
    "collapsed": false
   },
   "outputs": [
    {
     "data": {
      "text/html": [
       "<div>\n",
       "<table border=\"1\" class=\"dataframe\">\n",
       "  <thead>\n",
       "    <tr style=\"text-align: right;\">\n",
       "      <th></th>\n",
       "      <th>date</th>\n",
       "      <th>product</th>\n",
       "      <th>quantity</th>\n",
       "      <th>cost_price</th>\n",
       "      <th>sale_price</th>\n",
       "      <th>total_cost_price</th>\n",
       "      <th>total_sale_price</th>\n",
       "    </tr>\n",
       "  </thead>\n",
       "  <tbody>\n",
       "    <tr>\n",
       "      <th>0</th>\n",
       "      <td>2019/01/10</td>\n",
       "      <td>Social Media Detector</td>\n",
       "      <td>1.0</td>\n",
       "      <td>12.12</td>\n",
       "      <td>15.00</td>\n",
       "      <td>12.12</td>\n",
       "      <td>15.00</td>\n",
       "    </tr>\n",
       "    <tr>\n",
       "      <th>1</th>\n",
       "      <td>2019/01/13</td>\n",
       "      <td>Realistic Man's wig</td>\n",
       "      <td>2.0</td>\n",
       "      <td>2.15</td>\n",
       "      <td>9.99</td>\n",
       "      <td>4.30</td>\n",
       "      <td>19.98</td>\n",
       "    </tr>\n",
       "    <tr>\n",
       "      <th>2</th>\n",
       "      <td>2019/01/14</td>\n",
       "      <td>Weather's Originals</td>\n",
       "      <td>10.0</td>\n",
       "      <td>0.78</td>\n",
       "      <td>1.49</td>\n",
       "      <td>7.80</td>\n",
       "      <td>14.90</td>\n",
       "    </tr>\n",
       "    <tr>\n",
       "      <th>3</th>\n",
       "      <td>2019/01/15</td>\n",
       "      <td>Brown Shoes</td>\n",
       "      <td>2.0</td>\n",
       "      <td>22.45</td>\n",
       "      <td>49.99</td>\n",
       "      <td>44.90</td>\n",
       "      <td>99.98</td>\n",
       "    </tr>\n",
       "  </tbody>\n",
       "</table>\n",
       "</div>"
      ],
      "text/plain": [
       "         date                product  quantity  cost_price  sale_price  \\\n",
       "0  2019/01/10  Social Media Detector       1.0       12.12       15.00   \n",
       "1  2019/01/13    Realistic Man's wig       2.0        2.15        9.99   \n",
       "2  2019/01/14    Weather's Originals      10.0        0.78        1.49   \n",
       "3  2019/01/15            Brown Shoes       2.0       22.45       49.99   \n",
       "\n",
       "   total_cost_price  total_sale_price  \n",
       "0             12.12             15.00  \n",
       "1              4.30             19.98  \n",
       "2              7.80             14.90  \n",
       "3             44.90             99.98  "
      ]
     },
     "execution_count": 14,
     "metadata": {},
     "output_type": "execute_result"
    }
   ],
   "source": [
    "joined_df['total_cost_price'] = joined_df['quantity'] * joined_df['cost_price']\n",
    "joined_df['total_sale_price'] = joined_df['quantity'] * joined_df['sale_price']\n",
    "joined_df"
   ]
  },
  {
   "cell_type": "code",
   "execution_count": 18,
   "metadata": {
    "collapsed": false
   },
   "outputs": [
    {
     "data": {
      "text/plain": [
       "date                           2019/01/10\n",
       "product             Social Media Detector\n",
       "quantity                                1\n",
       "cost_price                          12.12\n",
       "sale_price                             15\n",
       "total_cost_price                    12.12\n",
       "total_sale_price                       15\n",
       "Name: 0, dtype: object"
      ]
     },
     "execution_count": 18,
     "metadata": {},
     "output_type": "execute_result"
    }
   ],
   "source": [
    "joined_df.ix[0]"
   ]
  },
  {
   "cell_type": "code",
   "execution_count": 20,
   "metadata": {
    "collapsed": false
   },
   "outputs": [
    {
     "data": {
      "text/html": [
       "<div>\n",
       "<table border=\"1\" class=\"dataframe\">\n",
       "  <thead>\n",
       "    <tr style=\"text-align: right;\">\n",
       "      <th></th>\n",
       "      <th>date</th>\n",
       "      <th>product</th>\n",
       "      <th>quantity</th>\n",
       "      <th>cost_price</th>\n",
       "      <th>sale_price</th>\n",
       "      <th>total_cost_price</th>\n",
       "      <th>total_sale_price</th>\n",
       "    </tr>\n",
       "  </thead>\n",
       "  <tbody>\n",
       "    <tr>\n",
       "      <th>0</th>\n",
       "      <td>2019/01/10</td>\n",
       "      <td>Social Media Detector</td>\n",
       "      <td>1.0</td>\n",
       "      <td>12.12</td>\n",
       "      <td>15.00</td>\n",
       "      <td>12.12</td>\n",
       "      <td>15.00</td>\n",
       "    </tr>\n",
       "    <tr>\n",
       "      <th>1</th>\n",
       "      <td>2019/01/13</td>\n",
       "      <td>Realistic Man's wig</td>\n",
       "      <td>2.0</td>\n",
       "      <td>2.15</td>\n",
       "      <td>9.99</td>\n",
       "      <td>4.30</td>\n",
       "      <td>19.98</td>\n",
       "    </tr>\n",
       "    <tr>\n",
       "      <th>2</th>\n",
       "      <td>2019/01/14</td>\n",
       "      <td>Weather's Originals</td>\n",
       "      <td>10.0</td>\n",
       "      <td>0.78</td>\n",
       "      <td>1.49</td>\n",
       "      <td>7.80</td>\n",
       "      <td>14.90</td>\n",
       "    </tr>\n",
       "  </tbody>\n",
       "</table>\n",
       "</div>"
      ],
      "text/plain": [
       "         date                product  quantity  cost_price  sale_price  \\\n",
       "0  2019/01/10  Social Media Detector       1.0       12.12       15.00   \n",
       "1  2019/01/13    Realistic Man's wig       2.0        2.15        9.99   \n",
       "2  2019/01/14    Weather's Originals      10.0        0.78        1.49   \n",
       "\n",
       "   total_cost_price  total_sale_price  \n",
       "0             12.12             15.00  \n",
       "1              4.30             19.98  \n",
       "2              7.80             14.90  "
      ]
     },
     "execution_count": 20,
     "metadata": {},
     "output_type": "execute_result"
    }
   ],
   "source": [
    "joined_df.ix[0:2]"
   ]
  },
  {
   "cell_type": "code",
   "execution_count": 21,
   "metadata": {
    "collapsed": false
   },
   "outputs": [
    {
     "data": {
      "text/plain": [
       "0    Social Media Detector\n",
       "1      Realistic Man's wig\n",
       "2      Weather's Originals\n",
       "3              Brown Shoes\n",
       "Name: product, dtype: object"
      ]
     },
     "execution_count": 21,
     "metadata": {},
     "output_type": "execute_result"
    }
   ],
   "source": [
    "joined_df['product']"
   ]
  },
  {
   "cell_type": "code",
   "execution_count": 22,
   "metadata": {
    "collapsed": true
   },
   "outputs": [],
   "source": [
    "df_subset_one = joined_df.ix[0:1]"
   ]
  },
  {
   "cell_type": "code",
   "execution_count": 23,
   "metadata": {
    "collapsed": false
   },
   "outputs": [
    {
     "data": {
      "text/html": [
       "<div>\n",
       "<table border=\"1\" class=\"dataframe\">\n",
       "  <thead>\n",
       "    <tr style=\"text-align: right;\">\n",
       "      <th></th>\n",
       "      <th>date</th>\n",
       "      <th>product</th>\n",
       "      <th>quantity</th>\n",
       "      <th>cost_price</th>\n",
       "      <th>sale_price</th>\n",
       "      <th>total_cost_price</th>\n",
       "      <th>total_sale_price</th>\n",
       "    </tr>\n",
       "  </thead>\n",
       "  <tbody>\n",
       "    <tr>\n",
       "      <th>0</th>\n",
       "      <td>2019/01/10</td>\n",
       "      <td>Social Media Detector</td>\n",
       "      <td>1.0</td>\n",
       "      <td>12.12</td>\n",
       "      <td>15.00</td>\n",
       "      <td>12.12</td>\n",
       "      <td>15.00</td>\n",
       "    </tr>\n",
       "    <tr>\n",
       "      <th>1</th>\n",
       "      <td>2019/01/13</td>\n",
       "      <td>Realistic Man's wig</td>\n",
       "      <td>2.0</td>\n",
       "      <td>2.15</td>\n",
       "      <td>9.99</td>\n",
       "      <td>4.30</td>\n",
       "      <td>19.98</td>\n",
       "    </tr>\n",
       "  </tbody>\n",
       "</table>\n",
       "</div>"
      ],
      "text/plain": [
       "         date                product  quantity  cost_price  sale_price  \\\n",
       "0  2019/01/10  Social Media Detector       1.0       12.12       15.00   \n",
       "1  2019/01/13    Realistic Man's wig       2.0        2.15        9.99   \n",
       "\n",
       "   total_cost_price  total_sale_price  \n",
       "0             12.12             15.00  \n",
       "1              4.30             19.98  "
      ]
     },
     "execution_count": 23,
     "metadata": {},
     "output_type": "execute_result"
    }
   ],
   "source": [
    "df_subset_one"
   ]
  },
  {
   "cell_type": "code",
   "execution_count": 25,
   "metadata": {
    "collapsed": false
   },
   "outputs": [
    {
     "data": {
      "text/html": [
       "<div>\n",
       "<table border=\"1\" class=\"dataframe\">\n",
       "  <thead>\n",
       "    <tr style=\"text-align: right;\">\n",
       "      <th></th>\n",
       "      <th>date</th>\n",
       "      <th>product</th>\n",
       "      <th>total_cost_price</th>\n",
       "    </tr>\n",
       "  </thead>\n",
       "  <tbody>\n",
       "    <tr>\n",
       "      <th>0</th>\n",
       "      <td>2019/01/10</td>\n",
       "      <td>Social Media Detector</td>\n",
       "      <td>12.12</td>\n",
       "    </tr>\n",
       "    <tr>\n",
       "      <th>1</th>\n",
       "      <td>2019/01/13</td>\n",
       "      <td>Realistic Man's wig</td>\n",
       "      <td>4.30</td>\n",
       "    </tr>\n",
       "    <tr>\n",
       "      <th>2</th>\n",
       "      <td>2019/01/14</td>\n",
       "      <td>Weather's Originals</td>\n",
       "      <td>7.80</td>\n",
       "    </tr>\n",
       "    <tr>\n",
       "      <th>3</th>\n",
       "      <td>2019/01/15</td>\n",
       "      <td>Brown Shoes</td>\n",
       "      <td>44.90</td>\n",
       "    </tr>\n",
       "  </tbody>\n",
       "</table>\n",
       "</div>"
      ],
      "text/plain": [
       "         date                product  total_cost_price\n",
       "0  2019/01/10  Social Media Detector             12.12\n",
       "1  2019/01/13    Realistic Man's wig              4.30\n",
       "2  2019/01/14    Weather's Originals              7.80\n",
       "3  2019/01/15            Brown Shoes             44.90"
      ]
     },
     "execution_count": 25,
     "metadata": {},
     "output_type": "execute_result"
    }
   ],
   "source": [
    "df_subset_two = joined_df[['date', 'product', 'total_cost_price']]\n",
    "df_subset_two"
   ]
  },
  {
   "cell_type": "code",
   "execution_count": 26,
   "metadata": {
    "collapsed": true
   },
   "outputs": [],
   "source": [
    "joined_df.to_csv('Joined_Dataframe.csv', sep=\",\")"
   ]
  },
  {
   "cell_type": "code",
   "execution_count": null,
   "metadata": {
    "collapsed": true
   },
   "outputs": [],
   "source": []
  }
 ],
 "metadata": {
  "anaconda-cloud": {},
  "kernelspec": {
   "display_name": "Python [Root]",
   "language": "python",
   "name": "Python [Root]"
  },
  "language_info": {
   "codemirror_mode": {
    "name": "ipython",
    "version": 3
   },
   "file_extension": ".py",
   "mimetype": "text/x-python",
   "name": "python",
   "nbconvert_exporter": "python",
   "pygments_lexer": "ipython3",
   "version": "3.5.2"
  }
 },
 "nbformat": 4,
 "nbformat_minor": 0
}
