{
 "cells": [
  {
   "cell_type": "code",
   "execution_count": 1,
   "metadata": {
    "collapsed": true
   },
   "outputs": [],
   "source": [
    "customers = {'James':{'name':'James Pennington', \\\n",
    "\t\t\t\t'open_orders':1, \\\n",
    "\t\t\t\t'orders':['o10001', 'o10002', 'o10004']\n",
    "\t\t\t}, \\\n",
    "\t\t\t'Gareth':{'name':'Gareth Edwards', \\\n",
    "\t\t\t\t'open_orders':0, \\\n",
    "\t\t\t\t'orders':[]\n",
    "\t\t\t}, \\\n",
    "\t\t\t'Mark':{'name':'Mark Bonnett', \\\n",
    "\t\t\t\t'open_orders':1, \\\n",
    "\t\t\t\t'orders':['o10003']\n",
    "\t\t\t}, \\\n",
    "\t\t\t'Emily':{'name':'Emily Davis', \\\n",
    "\t\t\t\t'open_orders':0, \\\n",
    "\t\t\t\t'orders':[]\n",
    "\t\t\t}\n",
    "}"
   ]
  },
  {
   "cell_type": "code",
   "execution_count": 2,
   "metadata": {
    "collapsed": true
   },
   "outputs": [],
   "source": [
    "orders = {'o10001':{'date':'2019/01/10', \\\n",
    "\t\t\t\t'product':'Social Media Detector', \\\n",
    "\t\t\t\t'quantity':'1'\n",
    "\t\t}, \\\n",
    "\t\t'o10002':{'date':'2019/01/13', \\\n",
    "\t\t\t\t'product':'Realistic Man\\'s wig', \\\n",
    "\t\t\t\t'quantity':'2' \\\n",
    "\t\t}, \\\n",
    "\t\t'o10003':{'date':'2019/01/14', \\\n",
    "\t\t\t\t'product':'Weather\\'s Originals', \\\n",
    "\t\t\t\t'quantity':'10' \\\n",
    "\t\t}, \\\n",
    "\t\t'o10004':{'date':'2019/01/15', \\\n",
    "\t\t\t\t'product':'Brown Shoes', \\\n",
    "\t\t\t\t'quantity':'2' \\\n",
    "\t\t}\n",
    "}"
   ]
  },
  {
   "cell_type": "code",
   "execution_count": 3,
   "metadata": {
    "collapsed": false
   },
   "outputs": [
    {
     "name": "stdout",
     "output_type": "stream",
     "text": [
      "Customer: Mark\n",
      "Date: 2019/01/14\n",
      "Product: Weather's Originals\n",
      "Quantity: 10\n",
      "\n",
      "\n"
     ]
    }
   ],
   "source": [
    "from customer_order_printer import order_printer\n",
    "order_printer('Mark', customers, orders)"
   ]
  },
  {
   "cell_type": "code",
   "execution_count": null,
   "metadata": {
    "collapsed": true
   },
   "outputs": [],
   "source": []
  }
 ],
 "metadata": {
  "kernelspec": {
   "display_name": "Python [Root]",
   "language": "python",
   "name": "Python [Root]"
  },
  "language_info": {
   "codemirror_mode": {
    "name": "ipython",
    "version": 3
   },
   "file_extension": ".py",
   "mimetype": "text/x-python",
   "name": "python",
   "nbconvert_exporter": "python",
   "pygments_lexer": "ipython3",
   "version": "3.5.2"
  }
 },
 "nbformat": 4,
 "nbformat_minor": 0
}
