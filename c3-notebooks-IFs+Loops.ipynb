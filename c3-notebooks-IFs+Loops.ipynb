{
 "cells": [
  {
   "cell_type": "code",
   "execution_count": 4,
   "metadata": {
    "collapsed": true
   },
   "outputs": [],
   "source": [
    "customers = {'James':{'name':'James Pennington', \\\n",
    "\t\t\t\t\t\t'open_orders':3, \\\n",
    "\t\t\t\t\t\t'orders':['o10001', 'o10002', 'o10004']\n",
    "\t\t\t}, \\\n",
    "\t\t\t'Gareth':{'name':'Gareth Edwards', \\\n",
    "\t\t\t\t\t\t'open_orders':0, \\\n",
    "\t\t\t\t\t\t'orders':[]\n",
    "\t\t\t}, \\\n",
    "\t\t\t'Mark':{'name':'Mark Bonnett', \\\n",
    "\t\t\t\t\t\t'open_orders':1, \\\n",
    "\t\t\t\t\t\t'orders':['o10003']\n",
    "\t\t\t}, \\\n",
    "\t\t\t'Emily':{'name':'Emily Davis', \\\n",
    "\t\t\t\t\t\t'open_orders':0, \\\n",
    "\t\t\t\t\t\t'orders':[]\n",
    "\t\t\t}\n",
    "}"
   ]
  },
  {
   "cell_type": "code",
   "execution_count": 5,
   "metadata": {
    "collapsed": false
   },
   "outputs": [
    {
     "data": {
      "text/plain": [
       "{'Emily': {'name': 'Emily Davis', 'open_orders': 0, 'orders': []},\n",
       " 'Gareth': {'name': 'Gareth Edwards', 'open_orders': 0, 'orders': []},\n",
       " 'James': {'name': 'James Pennington',\n",
       "  'open_orders': 3,\n",
       "  'orders': ['o10001', 'o10002', 'o10004']},\n",
       " 'Mark': {'name': 'Mark Bonnett', 'open_orders': 1, 'orders': ['o10003']}}"
      ]
     },
     "execution_count": 5,
     "metadata": {},
     "output_type": "execute_result"
    }
   ],
   "source": [
    "customers"
   ]
  },
  {
   "cell_type": "code",
   "execution_count": 6,
   "metadata": {
    "collapsed": false
   },
   "outputs": [
    {
     "name": "stdout",
     "output_type": "stream",
     "text": [
      "You have 3 open orders.\n"
     ]
    }
   ],
   "source": [
    "if customers['James']['open_orders'] > 0:\n",
    "    print('You have ' + str(customers['James']['open_orders']) + ' open orders.')\n",
    "else:\n",
    "    print('You have no open orders')"
   ]
  },
  {
   "cell_type": "code",
   "execution_count": 7,
   "metadata": {
    "collapsed": false
   },
   "outputs": [
    {
     "name": "stdout",
     "output_type": "stream",
     "text": [
      "You have no open orders\n"
     ]
    }
   ],
   "source": [
    "if customers['Emily']['open_orders'] > 0:\n",
    "\tprint('You have ' + str(customers['Emily']['open_orders']) + ' open orders.')\n",
    "else:\n",
    "\tprint('You have no open orders')"
   ]
  },
  {
   "cell_type": "code",
   "execution_count": 8,
   "metadata": {
    "collapsed": false
   },
   "outputs": [
    {
     "name": "stdout",
     "output_type": "stream",
     "text": [
      "You have no open orders\n"
     ]
    }
   ],
   "source": [
    "customer = 'Emily'\n",
    "\n",
    "if customers[customer]['open_orders'] > 0:\n",
    "\tprint('You have ' + str(customers[customer]['open_orders']) + ' open orders.')\n",
    "else:\n",
    "\tprint('You have no open orders')"
   ]
  },
  {
   "cell_type": "code",
   "execution_count": 9,
   "metadata": {
    "collapsed": false
   },
   "outputs": [
    {
     "data": {
      "text/plain": [
       "3"
      ]
     },
     "execution_count": 9,
     "metadata": {},
     "output_type": "execute_result"
    }
   ],
   "source": [
    "len(customers['James']['orders'])"
   ]
  },
  {
   "cell_type": "code",
   "execution_count": 10,
   "metadata": {
    "collapsed": false
   },
   "outputs": [
    {
     "name": "stdout",
     "output_type": "stream",
     "text": [
      "You have no open orders\n"
     ]
    }
   ],
   "source": [
    "customer = 'Emily'\n",
    "\n",
    "if customers[customer]['open_orders'] > 0:\n",
    "\tprint('You have ' + str(customers[customer]['open_orders']) + ' open orders.')\n",
    "elif len(customers[customer]['orders']) > 0:\n",
    "\tprint('You have ' + str(customers[customer]['open_orders']) + ' open orders.')\n",
    "else:\n",
    "\tprint('You have no open orders')"
   ]
  },
  {
   "cell_type": "code",
   "execution_count": 12,
   "metadata": {
    "collapsed": false
   },
   "outputs": [
    {
     "name": "stdout",
     "output_type": "stream",
     "text": [
      "You have no open orders\n"
     ]
    }
   ],
   "source": [
    "customer = 'Emily'\n",
    "\n",
    "if customers[customer]['open_orders'] > 0:\n",
    "\tif len(customers[customer]['orders']) > 0:\n",
    "\t\tprint('You have ' + str(customers[customer]['open_orders']) + ' open orders.')\n",
    "\telse:\n",
    "\t\tprint('There is an error')\n",
    "else:\n",
    "\tif len(customers[customer]['orders']) < 1:\n",
    "\t\tprint('You have no open orders')\n",
    "\telse:\n",
    "\t\tprint('There is an error')"
   ]
  },
  {
   "cell_type": "code",
   "execution_count": 14,
   "metadata": {
    "collapsed": false
   },
   "outputs": [
    {
     "name": "stdout",
     "output_type": "stream",
     "text": [
      "James Pennington has 3 open orders.\n",
      "Emily Davis has no open orders\n",
      "Gareth Edwards has no open orders\n",
      "Mark Bonnett has 1 open orders.\n"
     ]
    }
   ],
   "source": [
    "for customer in customers:\n",
    "\tif customers[customer]['open_orders'] > 0:\n",
    "\t\tif len(customers[customer]['orders']) > 0:\n",
    "\t\t\tprint(customers[customer]['name'] + \\\n",
    "\t\t\t\t' has ' + str(customers[customer]['open_orders']) + \\\n",
    "\t\t\t\t' open orders.')\n",
    "\t\telse:\n",
    "\t\t\tprint('There is an error')\n",
    "\telse:\n",
    "\t\tif len(customers[customer]['orders']) < 1:\n",
    "\t\t\tprint(customers[customer]['name'] +' has no open orders')\n",
    "\t\telse:\n",
    "\t\t\tprint('There is an error')"
   ]
  },
  {
   "cell_type": "code",
   "execution_count": 16,
   "metadata": {
    "collapsed": false
   },
   "outputs": [
    {
     "name": "stdout",
     "output_type": "stream",
     "text": [
      "This is number #1\n",
      "This is number #2\n",
      "This is number #3\n",
      "This is number #4\n",
      "This is number #5\n",
      "This is number #6\n",
      "This is number #7\n",
      "This is number #8\n",
      "This is number #9\n"
     ]
    }
   ],
   "source": [
    "for i in range(1, 10):\n",
    "\tprint(\"This is number #\" + str(i))"
   ]
  },
  {
   "cell_type": "code",
   "execution_count": 20,
   "metadata": {
    "collapsed": false
   },
   "outputs": [
    {
     "name": "stdout",
     "output_type": "stream",
     "text": [
      "There are 1 participants\n",
      "There are 2 participants\n",
      "There are 3 participants\n",
      "There are 4 participants\n",
      "There are 5 participants\n",
      "There are 6 participants\n",
      "There are 7 participants\n",
      "There are 8 participants\n",
      "There are 9 participants\n",
      "There are 10 participants\n"
     ]
    }
   ],
   "source": [
    "capacity = False\n",
    "participants = 0\n",
    "\n",
    "while capacity == False:\n",
    "\tparticipants = participants + 1\n",
    "\tprint('There are ' + str(participants) + ' participants')\n",
    "\tif participants >= 10:\n",
    "\t\tcapacity = True"
   ]
  },
  {
   "cell_type": "code",
   "execution_count": null,
   "metadata": {
    "collapsed": true
   },
   "outputs": [],
   "source": []
  }
 ],
 "metadata": {
  "kernelspec": {
   "display_name": "Python [Root]",
   "language": "python",
   "name": "Python [Root]"
  },
  "language_info": {
   "codemirror_mode": {
    "name": "ipython",
    "version": 3
   },
   "file_extension": ".py",
   "mimetype": "text/x-python",
   "name": "python",
   "nbconvert_exporter": "python",
   "pygments_lexer": "ipython3",
   "version": "3.5.2"
  }
 },
 "nbformat": 4,
 "nbformat_minor": 0
}
