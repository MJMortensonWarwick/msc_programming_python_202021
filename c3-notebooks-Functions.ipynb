{
 "cells": [
  {
   "cell_type": "code",
   "execution_count": 1,
   "metadata": {
    "collapsed": false
   },
   "outputs": [
    {
     "data": {
      "text/plain": [
       "{'name': 'James Pennington',\n",
       " 'open_orders': 1,\n",
       " 'orders': ['o10001', 'o10002', 'o10004']}"
      ]
     },
     "execution_count": 1,
     "metadata": {},
     "output_type": "execute_result"
    }
   ],
   "source": [
    "customers = {'James':{'name':'James Pennington', \\\n",
    "\t\t\t\t'open_orders':1, \\\n",
    "\t\t\t\t'orders':['o10001', 'o10002', 'o10004']\n",
    "\t\t\t}, \\\n",
    "\t\t\t'Gareth':{'name':'Gareth Edwards', \\\n",
    "\t\t\t\t'open_orders':0, \\\n",
    "\t\t\t\t'orders':[]\n",
    "\t\t\t}, \\\n",
    "\t\t\t'Mark':{'name':'Mark Bonnett', \\\n",
    "\t\t\t\t'open_orders':1, \\\n",
    "\t\t\t\t'orders':['o10003']\n",
    "\t\t\t}, \\\n",
    "\t\t\t'Emily':{'name':'Emily Davis', \\\n",
    "\t\t\t\t'open_orders':0, \\\n",
    "\t\t\t\t'orders':[]\n",
    "\t\t\t}\n",
    "}\n",
    "customers['James']"
   ]
  },
  {
   "cell_type": "code",
   "execution_count": 2,
   "metadata": {
    "collapsed": false
   },
   "outputs": [
    {
     "data": {
      "text/plain": [
       "{'date': '2019/01/10', 'product': 'Social Media Detector', 'quantity': '1'}"
      ]
     },
     "execution_count": 2,
     "metadata": {},
     "output_type": "execute_result"
    }
   ],
   "source": [
    "orders = {'o10001':{'date':'2019/01/10', \\\n",
    "\t\t\t\t'product':'Social Media Detector', \\\n",
    "\t\t\t\t'quantity':'1'\n",
    "\t\t}, \\\n",
    "\t\t'o10002':{'date':'2019/01/13', \\\n",
    "\t\t\t\t'product':'Realistic Man\\'s wig', \\\n",
    "\t\t\t\t'quantity':'2' \\\n",
    "\t\t}, \\\n",
    "\t\t'o10003':{'date':'2019/01/14', \\\n",
    "\t\t\t\t'product':'Weather\\'s Originals', \\\n",
    "\t\t\t\t'quantity':'10' \\\n",
    "\t\t}, \\\n",
    "\t\t'o10004':{'date':'2019/01/15', \\\n",
    "\t\t\t\t'product':'Brown Shoes', \\\n",
    "\t\t\t\t'quantity':'2' \\\n",
    "\t\t}\n",
    "}\n",
    "orders['o10001']"
   ]
  },
  {
   "cell_type": "code",
   "execution_count": 3,
   "metadata": {
    "collapsed": false
   },
   "outputs": [
    {
     "name": "stdout",
     "output_type": "stream",
     "text": [
      "Customer: Emily has no orders\n",
      "\n",
      "\n",
      "Customer: Mark\n",
      "Date: 2019/01/14\n",
      "Product: Weather's Originals\n",
      "Quantity: 10\n",
      "\n",
      "\n",
      "Customer: James\n",
      "Date: 2019/01/10\n",
      "Product: Social Media Detector\n",
      "Quantity: 1\n",
      "Date: 2019/01/13\n",
      "Product: Realistic Man's wig\n",
      "Quantity: 2\n",
      "Date: 2019/01/15\n",
      "Product: Brown Shoes\n",
      "Quantity: 2\n",
      "\n",
      "\n",
      "Customer: Gareth has no orders\n",
      "\n",
      "\n"
     ]
    }
   ],
   "source": [
    "for customer in customers:\n",
    "\tif len(customers[customer]['orders']) > 0:\n",
    "\t\tprint('Customer: ' + str(customer))\n",
    "\t\tfor order in customers[customer]['orders']:\n",
    "\t\t\tprint('Date: ' + str(orders[order]['date']))\n",
    "\t\t\tprint('Product: ' + orders[order]['product'])\n",
    "\t\t\tprint('Quantity: ' + orders[order]['quantity'])\n",
    "\t\tprint('\\n')\n",
    "\telse:\n",
    "\t\tprint('Customer: ' + str(customer) + ' has no orders')\n",
    "\t\tprint('\\n')"
   ]
  },
  {
   "cell_type": "code",
   "execution_count": 4,
   "metadata": {
    "collapsed": true
   },
   "outputs": [],
   "source": [
    "def order_printer(customer):\n",
    "\tif len(customers[customer]['orders']) > 0:\n",
    "\t\tprint('Customer: ' + str(customer))\n",
    "\t\tfor order in customers[customer]['orders']:\n",
    "\t\t\tprint('Date: ' + str(orders[order]['date']))\n",
    "\t\t\tprint('Product: ' + orders[order]['product'])\n",
    "\t\t\tprint('Quantity: ' + orders[order]['quantity'])\n",
    "\t\tprint('\\n')\n",
    "\telse:\n",
    "\t\tprint('Customer: ' + str(customer) + ' has no orders')\n",
    "\t\tprint('\\n')"
   ]
  },
  {
   "cell_type": "code",
   "execution_count": 5,
   "metadata": {
    "collapsed": false
   },
   "outputs": [
    {
     "name": "stdout",
     "output_type": "stream",
     "text": [
      "Customer: James\n",
      "Date: 2019/01/10\n",
      "Product: Social Media Detector\n",
      "Quantity: 1\n",
      "Date: 2019/01/13\n",
      "Product: Realistic Man's wig\n",
      "Quantity: 2\n",
      "Date: 2019/01/15\n",
      "Product: Brown Shoes\n",
      "Quantity: 2\n",
      "\n",
      "\n"
     ]
    }
   ],
   "source": [
    "order_printer('James')"
   ]
  },
  {
   "cell_type": "code",
   "execution_count": 6,
   "metadata": {
    "collapsed": false
   },
   "outputs": [
    {
     "name": "stdout",
     "output_type": "stream",
     "text": [
      "Customer: Emily has no orders\n",
      "\n",
      "\n"
     ]
    }
   ],
   "source": [
    "order_printer('Emily')"
   ]
  },
  {
   "cell_type": "code",
   "execution_count": 7,
   "metadata": {
    "collapsed": true
   },
   "outputs": [],
   "source": [
    "def order_printer(customer):\n",
    "\tif customer in customers:\n",
    "\t\tif len(customers[customer]['orders']) > 0:\n",
    "\t\t\tprint('Customer: ' + str(customer))\n",
    "\t\t\tfor order in customers[customer]['orders']:\n",
    "\t\t\t\tprint('Date: ' + str(orders[order]['date']))\n",
    "\t\t\t\tprint('Product: ' + orders[order]['product'])\n",
    "\t\t\t\tprint('Quantity: ' + orders[order]['quantity'])\n",
    "\t\t\tprint('\\n')\n",
    "\t\telse:\n",
    "\t\t\tprint('Customer: ' + str(customer) + ' has no orders')\n",
    "\t\t\tprint('\\n')\n",
    "\telse:\n",
    "\t\tprint('Customer name not found. Please try again')"
   ]
  },
  {
   "cell_type": "code",
   "execution_count": 8,
   "metadata": {
    "collapsed": false
   },
   "outputs": [
    {
     "name": "stdout",
     "output_type": "stream",
     "text": [
      "Customer name not found. Please try again\n"
     ]
    }
   ],
   "source": [
    "order_printer('John')"
   ]
  },
  {
   "cell_type": "code",
   "execution_count": null,
   "metadata": {
    "collapsed": true
   },
   "outputs": [],
   "source": []
  }
 ],
 "metadata": {
  "kernelspec": {
   "display_name": "Python [Root]",
   "language": "python",
   "name": "Python [Root]"
  },
  "language_info": {
   "codemirror_mode": {
    "name": "ipython",
    "version": 3
   },
   "file_extension": ".py",
   "mimetype": "text/x-python",
   "name": "python",
   "nbconvert_exporter": "python",
   "pygments_lexer": "ipython3",
   "version": "3.5.2"
  }
 },
 "nbformat": 4,
 "nbformat_minor": 0
}
