{
 "cells": [
  {
   "cell_type": "code",
   "execution_count": 1,
   "metadata": {},
   "outputs": [],
   "source": [
    "from bs4 import BeautifulSoup\n",
    "from requests import get\n",
    "import pandas as pd\n",
    "import itertools\n",
    "import matplotlib.pyplot as plt\n",
    "import seaborn as sns\n",
    "sns.set()"
   ]
  },
  {
   "cell_type": "code",
   "execution_count": 2,
   "metadata": {},
   "outputs": [],
   "source": [
    "headers = ({'User-Agent':\n",
    "            'Mozilla/5.0 (Windows NT 6.1) AppleWebKit/537.36 (KHTML, like Gecko) Chrome/41.0.2228.0 Safari/537.36'})"
   ]
  },
  {
   "cell_type": "code",
   "execution_count": 3,
   "metadata": {},
   "outputs": [],
   "source": [
    "ptech_web = \"http://ptechweb.s3-website.us-east-2.amazonaws.com\"\n",
    "response = get(ptech_web, headers=headers)"
   ]
  },
  {
   "cell_type": "code",
   "execution_count": 4,
   "metadata": {},
   "outputs": [
    {
     "name": "stdout",
     "output_type": "stream",
     "text": [
      "<!DOCTYPE html>\n",
      "<!--[if IE 9 ]> <html lang=\"en-US\" class=\"ie9 loading-site no-js\"> <![endif]-->\n",
      "<!--[if IE 8 ]> <html lang=\"en-US\" class=\"ie8 loading-site no-js\"> <![endif]-->\n",
      "<!--[if (gte IE 9)|!(IE)]><!--><html lang=\"en-US\" class=\"loading-site no-js\"> <!--<![endif]-->\n",
      "<head>\n",
      "<meta charset=\"UTF-8\"/>\n",
      "<link rel=\"profile\" href=\"http://gmpg.org/xfn/11\"/>\n",
      "<link rel=\"pingback\" href=\"xmlrpc.php.html\"/>\n",
      "<script>(function(html){html.className = html.className.replace(/\\bno-js\\b/,'js')})(document.documen\n"
     ]
    }
   ],
   "source": [
    "print(response.text[:500])"
   ]
  },
  {
   "cell_type": "code",
   "execution_count": 5,
   "metadata": {},
   "outputs": [],
   "source": [
    "ptech_soup = BeautifulSoup(response.text, 'html.parser')"
   ]
  },
  {
   "cell_type": "code",
   "execution_count": 6,
   "metadata": {},
   "outputs": [],
   "source": [
    "ptech_h1 = ptech_soup.find_all('h1')"
   ]
  },
  {
   "cell_type": "code",
   "execution_count": 7,
   "metadata": {},
   "outputs": [
    {
     "name": "stdout",
     "output_type": "stream",
     "text": [
      "[<h1>Digital Marketing Consultancy</h1>, <h1>Paid Advertising Training</h1>, <h1>International Marketing</h1>, <h1>Google Analytics Training</h1>]\n"
     ]
    }
   ],
   "source": [
    "print(ptech_h1)"
   ]
  },
  {
   "cell_type": "code",
   "execution_count": 8,
   "metadata": {},
   "outputs": [
    {
     "name": "stdout",
     "output_type": "stream",
     "text": [
      "Need to understand your online marketing?\n",
      "Google Adwords & Facebook Advertising\n",
      "Are you looking to Export?\n",
      "Learn how to reach new markets.\n",
      "Get started with Analytics, understand the data\n"
     ]
    }
   ],
   "source": [
    "ptech_tag = ptech_soup.find_all('h4', class_='thin-font')\n",
    "\n",
    "for each in ptech_tag: \n",
    "    print (str(each.get_text()))"
   ]
  },
  {
   "cell_type": "code",
   "execution_count": 9,
   "metadata": {},
   "outputs": [],
   "source": [
    "# setting up the lists that will form our dataframe with all the results\n",
    "titles = []\n",
    "metatitle = []"
   ]
  },
  {
   "cell_type": "code",
   "execution_count": 13,
   "metadata": {},
   "outputs": [
    {
     "name": "stdout",
     "output_type": "stream",
     "text": [
      "CPU times: user 264 ms, sys: 9.65 ms, total: 274 ms\n",
      "Wall time: 4.5 s\n"
     ]
    }
   ],
   "source": [
    "%%time\n",
    "\n",
    "from random import randint\n",
    "from time import sleep\n",
    "\n",
    "#n_pages = 0\n",
    "\n",
    "title_dict = {} # empty dictionary\n",
    "\n",
    "uri = 'http://ptechweb.s3-website.us-east-2.amazonaws.com/about-us/'\n",
    "suffixes = ['staff/james-pennington/index.html', 'clients/index.html'] # add the rest in here \n",
    "\n",
    "for suffix in suffixes: # loop through the suffixes list\n",
    "\n",
    "    h1heading = [] # new list or empty the list to start again \n",
    "    metatitle = []\n",
    "    metadesc = []\n",
    "    ptech_webscrape = uri + suffix # concatenate the URL and the suffix in the current loop  \n",
    "    r = get(ptech_webscrape, headers=headers)\n",
    "    page_html = BeautifulSoup(r.text, 'html.parser')\n",
    "    ptech_webpage = page_html.find_all('html')       \n",
    "    \n",
    "    if ptech_webpage != []:\n",
    "        for container in ptech_webpage:\n",
    "            \n",
    "            # page title\n",
    "            meta_title = page_html.find(\"meta\", property=\"og:title\")\n",
    "            metatitle.append(meta_title)\n",
    "            \n",
    "            # meta description\n",
    "            meta_desc = page_html.find(\"meta\", property=\"og:description\")\n",
    "            metadesc.append(meta_desc)\n",
    "            \n",
    "            # H1\n",
    "            h1name = container.find_all('h1')[0].text\n",
    "            h1heading.append(h1name)\n",
    "            \n",
    "            \n",
    "    else:\n",
    "        continue\n",
    "\n",
    "    title_dict[suffix] = h1heading, metatitle, metadesc # add to the dictionary the suffix and the list of h1's\n",
    "    \n",
    "    \n",
    "    sleep(randint(1,3))"
   ]
  },
  {
   "cell_type": "code",
   "execution_count": 14,
   "metadata": {
    "scrolled": true
   },
   "outputs": [
    {
     "name": "stdout",
     "output_type": "stream",
     "text": [
      "{'staff/james-pennington/index.html': (['James Pennington'], [<meta content=\"James Pennington - ptech\" property=\"og:title\"/>], [<meta content=\"James has been involved in IT consultancy to SMEâs for 18+ years and has worked with over a large number of businesses in that time to help them understand and implement IT effectively within their organisations. With both a practical and strategic view of IT across all areas of the business, James works with a [...]\" property=\"og:description\"/>]), 'clients/index.html': (['Our Clients'], [<meta content=\"Our Clients - ptech\" property=\"og:title\"/>], [<meta content=\"We have delivered our services to a wide range of clients over the past 10 years, including business start-ups and Global organisations. Â What ever the type of business you’re running, we are confident that we can provided the skills and support required to take your business to the next level. Our clients, whether they be [...]\" property=\"og:description\"/>])}\n"
     ]
    }
   ],
   "source": [
    "print(title_dict)"
   ]
  },
  {
   "cell_type": "code",
   "execution_count": 12,
   "metadata": {},
   "outputs": [],
   "source": [
    "cols = ['Title'] # columns in our xls\n",
    "\n",
    "ptechxls = pd.DataFrame({'Title': title_dict})[cols]\n",
    "ptechxls.to_excel('ptech_scrape.xls') # the name of our file"
   ]
  }
 ],
 "metadata": {
  "kernelspec": {
   "display_name": "Python 3",
   "language": "python",
   "name": "python3"
  },
  "language_info": {
   "codemirror_mode": {
    "name": "ipython",
    "version": 3
   },
   "file_extension": ".py",
   "mimetype": "text/x-python",
   "name": "python",
   "nbconvert_exporter": "python",
   "pygments_lexer": "ipython3",
   "version": "3.7.3"
  }
 },
 "nbformat": 4,
 "nbformat_minor": 4
}
