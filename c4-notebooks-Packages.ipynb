{
 "cells": [
  {
   "cell_type": "code",
   "execution_count": 2,
   "metadata": {
    "collapsed": false
   },
   "outputs": [
    {
     "data": {
      "text/plain": [
       "['Statistics', 'Statistics', 'Computers']"
      ]
     },
     "execution_count": 2,
     "metadata": {},
     "output_type": "execute_result"
    }
   ],
   "source": [
    "from flashtext import KeywordProcessor\n",
    "keyword_processor = KeywordProcessor()\n",
    "\n",
    "keyword_processor.add_keyword('computational', 'Computers')\n",
    "keyword_processor.add_keyword('computer', 'Computers')\n",
    "keyword_processor.add_keyword('high performance computing', 'Computers')\n",
    "keyword_processor.add_keyword('statistics', 'Statistics')\n",
    "keyword_processor.add_keyword('statistical', 'Statistics')\n",
    "keyword_processor.add_keyword('python', 'Python')\n",
    "\n",
    "text = 'This module aims to introduce students to many of the advanced statistical techniques made possible by innovations in computing and modern processing power. This includes Markov chain Monte Carlo approaches, probabilistic methods, Bayesian statistics, dimension reduction and high performance computing'\n",
    "text = text.lower()\n",
    "\n",
    "keywords_found = keyword_processor.extract_keywords(text)\n",
    "keywords_found"
   ]
  },
  {
   "cell_type": "code",
   "execution_count": null,
   "metadata": {
    "collapsed": true
   },
   "outputs": [],
   "source": []
  }
 ],
 "metadata": {
  "anaconda-cloud": {},
  "kernelspec": {
   "display_name": "Python [Root]",
   "language": "python",
   "name": "Python [Root]"
  },
  "language_info": {
   "codemirror_mode": {
    "name": "ipython",
    "version": 3
   },
   "file_extension": ".py",
   "mimetype": "text/x-python",
   "name": "python",
   "nbconvert_exporter": "python",
   "pygments_lexer": "ipython3",
   "version": "3.5.2"
  }
 },
 "nbformat": 4,
 "nbformat_minor": 0
}
